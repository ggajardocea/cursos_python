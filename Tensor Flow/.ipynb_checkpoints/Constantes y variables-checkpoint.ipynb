{
 "cells": [
  {
   "cell_type": "markdown",
   "metadata": {},
   "source": [
    "# Tutorial de Tensor Flow\n",
    "TensorFlow es una librería opensource desarrollada por Google Brain para elaborar modelos de aprendizaje automático de forma rápida y simple. Es una de las librerías de este tipo más utilizadas junto a h2o y pytorch (Facebook).\n",
    "\n",
    "En términos simples, un tensor es una generalización de matrices y vectores a más dimensiones que las que suelen utilizarse, lo que posibilita el entrenamiento de modelos con mucha data de manera bastante ordenada.\n",
    "Existen dos elementos fundamentales, las constantes y las variables, y ambas son categorías de los tensores.\n",
    "La diferencia es que las constantes no se entrenan y pueden tener cualquier dimensión. Además, TF tiene varias funciones muy útiles para generar constantes de forma simple.\n",
    "Las variables tiene tipo y forma fijas, pero puede cambiar su valor en la computación\n",
    "\n",
    "Una vez instalado anaconda, es posible instalar tensorflow con el instalador de python *pip*"
   ]
  },
  {
   "cell_type": "code",
   "execution_count": 7,
   "metadata": {},
   "outputs": [],
   "source": [
    "# !pip install tensorflow\n",
    "import tensorflow as tf"
   ]
  },
  {
   "cell_type": "code",
   "execution_count": 9,
   "metadata": {},
   "outputs": [
    {
     "name": "stdout",
     "output_type": "stream",
     "text": [
      "[[[1. 1.]\n",
      "  [1. 1.]]\n",
      "\n",
      " [[1. 1.]\n",
      "  [1. 1.]]]\n"
     ]
    }
   ],
   "source": [
    "# 0D Tensor \n",
    "d0 = tf.ones((1,)) \n",
    "\n",
    "# 1D Tensor \n",
    "d1 = tf.ones((2,))\n",
    "\n",
    "# 2D Tensor \n",
    "d2 = tf.ones((2, 2))\n",
    "\n",
    "# 3D Tensor \n",
    "d3 = tf.ones((2, 2, 2))\n",
    "\n",
    "# Print the 3D tensor \n",
    "print(d3.numpy()) "
   ]
  },
  {
   "cell_type": "code",
   "execution_count": null,
   "metadata": {},
   "outputs": [],
   "source": []
  }
 ],
 "metadata": {
  "kernelspec": {
   "display_name": "Python 3",
   "language": "python",
   "name": "python3"
  },
  "language_info": {
   "codemirror_mode": {
    "name": "ipython",
    "version": 3
   },
   "file_extension": ".py",
   "mimetype": "text/x-python",
   "name": "python",
   "nbconvert_exporter": "python",
   "pygments_lexer": "ipython3",
   "version": "3.7.3"
  }
 },
 "nbformat": 4,
 "nbformat_minor": 2
}
