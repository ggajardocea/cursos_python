{
 "cells": [
  {
   "cell_type": "markdown",
   "metadata": {},
   "source": [
    "# Cleaning data with Python"
   ]
  },
  {
   "cell_type": "markdown",
   "metadata": {},
   "source": [
    "## Introducción\n",
    "Importar las librerías que se utilizarán. Las más utilizadas son:\n",
    "- pandas\n",
    "- numpy\n",
    "- matplotlib.pyplot\n",
    "- seaborn"
   ]
  },
  {
   "cell_type": "code",
   "execution_count": 1,
   "metadata": {},
   "outputs": [],
   "source": [
    "import pandas as pd\n",
    "import numpy as np\n",
    "import matplotlib.pyplot as plt\n",
    "import os"
   ]
  },
  {
   "cell_type": "code",
   "execution_count": null,
   "metadata": {},
   "outputs": [],
   "source": [
    "dirpath = os.getcwd()\n",
    "print(\"current directory is : \" + dirpath)\n",
    "foldername = os.path.basename(dirpath)\n",
    "print(\"Directory name is : \" + foldername)"
   ]
  },
  {
   "cell_type": "code",
   "execution_count": 24,
   "metadata": {},
   "outputs": [
    {
     "name": "stdout",
     "output_type": "stream",
     "text": [
      "gapminder.txt\n",
      "gapminder.xlsx\n",
      "Untitled.ipynb\n",
      "Untitled-checkpoint.ipynb\n"
     ]
    }
   ],
   "source": [
    "# Permite ver los archivos en el directorio de trabajo\n",
    "for root, dirs, files in os.walk(\".\"):  \n",
    "    for filename in files:\n",
    "        print(filename)"
   ]
  },
  {
   "cell_type": "markdown",
   "metadata": {},
   "source": [
    "## Cargar y explorar la data"
   ]
  },
  {
   "cell_type": "code",
   "execution_count": null,
   "metadata": {},
   "outputs": [],
   "source": [
    "df = pd.read_excel('gapminder.xlsx')"
   ]
  },
  {
   "cell_type": "code",
   "execution_count": 29,
   "metadata": {},
   "outputs": [
    {
     "name": "stdout",
     "output_type": "stream",
     "text": [
      "   Unnamed: 0   1800   1801   1802   1803   1804   1805   1806   1807   1808  \\\n",
      "0           0    NaN    NaN    NaN    NaN    NaN    NaN    NaN    NaN    NaN   \n",
      "1           1  28.21  28.20  28.19  28.18  28.17  28.16  28.15  28.14  28.13   \n",
      "2           2    NaN    NaN    NaN    NaN    NaN    NaN    NaN    NaN    NaN   \n",
      "3           3  35.40  35.40  35.40  35.40  35.40  35.40  35.40  35.40  35.40   \n",
      "4           4  28.82  28.82  28.82  28.82  28.82  28.82  28.82  28.82  28.82   \n",
      "5           5    NaN    NaN    NaN    NaN    NaN    NaN    NaN    NaN    NaN   \n",
      "6           6    NaN    NaN    NaN    NaN    NaN    NaN    NaN    NaN    NaN   \n",
      "7           7  26.98  26.98  26.98  26.98  26.98  26.98  26.98  26.98  26.98   \n",
      "8           8    NaN    NaN    NaN    NaN    NaN    NaN    NaN    NaN    NaN   \n",
      "9           9  33.54  33.54  33.54  33.54  33.54  33.54  33.54  33.54  33.54   \n",
      "\n",
      "   ...  2008  2009  2010  2011  2012  2013  2014  2015   2016  \\\n",
      "0  ...   NaN   NaN   NaN   NaN   NaN   NaN   NaN   NaN    NaN   \n",
      "1  ...  52.8  53.3  53.6  54.0  54.4  54.8  54.9  53.8  52.72   \n",
      "2  ...   NaN   NaN   NaN   NaN   NaN   NaN   NaN   NaN    NaN   \n",
      "3  ...  76.8  77.0  77.2  77.4  77.5  77.7  77.9  78.0  78.10   \n",
      "4  ...  75.5  75.7  76.0  76.1  76.2  76.3  76.3  76.4  76.50   \n",
      "5  ...  72.7  71.3  72.8  72.6  72.6  72.7  72.8  72.9  73.00   \n",
      "6  ...  84.6  84.6  84.7  84.7  84.7  84.8  84.8  84.8  84.80   \n",
      "7  ...  56.7  57.1  57.6  58.1  58.5  58.8  59.2  59.6  60.00   \n",
      "8  ...   NaN   NaN   NaN   NaN   NaN   NaN   NaN   NaN    NaN   \n",
      "9  ...  75.5  75.7  75.8  75.9  76.1  76.2  76.3  76.4  76.50   \n",
      "\n",
      "         Life expectancy  \n",
      "0               Abkhazia  \n",
      "1            Afghanistan  \n",
      "2  Akrotiri and Dhekelia  \n",
      "3                Albania  \n",
      "4                Algeria  \n",
      "5         American Samoa  \n",
      "6                Andorra  \n",
      "7                 Angola  \n",
      "8               Anguilla  \n",
      "9    Antigua and Barbuda  \n",
      "\n",
      "[10 rows x 219 columns]\n",
      "<class 'pandas.core.frame.DataFrame'>\n",
      "RangeIndex: 260 entries, 0 to 259\n",
      "Columns: 219 entries, Unnamed: 0 to Life expectancy\n",
      "dtypes: float64(217), int64(1), object(1)\n",
      "memory usage: 444.9+ KB\n",
      "None\n",
      "       Unnamed: 0        1800        1801        1802        1803        1804  \\\n",
      "count  260.000000  201.000000  201.000000  201.000000  201.000000  201.000000   \n",
      "mean   129.500000   31.486020   31.448905   31.463483   31.377413   31.446318   \n",
      "std     75.199734    3.763585    3.755739    3.878204    3.901966    3.877156   \n",
      "min      0.000000   23.390000   23.390000   23.390000   19.600000   23.390000   \n",
      "25%     64.750000   29.000000   28.950000   28.900000   28.900000   28.950000   \n",
      "50%    129.500000   31.800000   31.700000   31.600000   31.500000   31.600000   \n",
      "75%    194.250000   33.900000   33.900000   33.900000   33.800000   33.870000   \n",
      "max    259.000000   42.850000   40.300000   44.370000   44.840000   42.830000   \n",
      "\n",
      "             1805        1806        1807        1808  ...        2007  \\\n",
      "count  201.000000  201.000000  201.000000  201.000000  ...  208.000000   \n",
      "mean    31.562537   31.615970   31.573134   31.376766  ...   70.139712   \n",
      "std      3.947957    4.039261    3.917339    4.017228  ...    8.953255   \n",
      "min     23.390000   23.390000   23.390000   12.480000  ...   43.300000   \n",
      "25%     29.000000   29.000000   29.000000   28.950000  ...   64.825000   \n",
      "50%     31.700000   31.800000   31.800000   31.600000  ...   72.750000   \n",
      "75%     33.900000   34.000000   34.000000   33.870000  ...   76.925000   \n",
      "max     44.270000   45.820000   43.560000   43.550000  ...   84.500000   \n",
      "\n",
      "             2008        2009        2010        2011        2012        2013  \\\n",
      "count  208.000000  208.000000  208.000000  208.000000  208.000000  208.000000   \n",
      "mean    70.447163   70.767740   70.969904   71.324375   71.663077   71.916106   \n",
      "std      8.800452    8.610341    8.898859    8.376540    8.217466    8.120852   \n",
      "min     44.500000   45.500000   32.200000   46.700000   46.100000   45.600000   \n",
      "25%     64.875000   65.225000   65.475000   65.600000   66.075000   66.475000   \n",
      "50%     73.000000   73.350000   73.700000   73.750000   74.050000   74.150000   \n",
      "75%     77.150000   77.425000   77.650000   77.825000   78.125000   78.300000   \n",
      "max     84.600000   84.600000   84.700000   84.700000   84.700000   84.800000   \n",
      "\n",
      "             2014       2015        2016  \n",
      "count  208.000000  208.00000  208.000000  \n",
      "mean    72.088125   72.32101   72.556635  \n",
      "std      8.074990    7.90202    7.738535  \n",
      "min     45.400000   47.10000   48.860000  \n",
      "25%     66.775000   67.05000   67.175000  \n",
      "50%     74.300000   74.40000   74.500000  \n",
      "75%     78.400000   78.50000   78.650000  \n",
      "max     84.800000   84.80000   84.800000  \n",
      "\n",
      "[8 rows x 218 columns]\n",
      "Index([     'Unnamed: 0',              1800,              1801,\n",
      "                    1802,              1803,              1804,\n",
      "                    1805,              1806,              1807,\n",
      "                    1808,\n",
      "       ...\n",
      "                    2008,              2009,              2010,\n",
      "                    2011,              2012,              2013,\n",
      "                    2014,              2015,              2016,\n",
      "       'Life expectancy'],\n",
      "      dtype='object', length=219)\n",
      "(260, 219)\n"
     ]
    }
   ],
   "source": [
    "# Head, muestra las primeras líneas. Por defecto son las primeras 5\n",
    "print(df.head(10))\n",
    "\n",
    "# Info: Permite ver tipos objeto, de columnas, uso de memoria, \n",
    "print(df.info())\n",
    "\n",
    "# Describe: estadísticos más importantes de cada columna\n",
    "print(df.describe())\n",
    "\n",
    "# Columns: nombres de las columnas del objeto en análisis\n",
    "print(df.columns)\n",
    "\n",
    "# Shape: Dimensión del objeto\n",
    "print(df.shape)\n",
    "\n",
    "# **Poner diferencia entre los que piden () y los que no"
   ]
  },
  {
   "cell_type": "markdown",
   "metadata": {},
   "source": [
    "## Gráficos exploratorios\n",
    "En Python resulta muy fácil hacer gráficos estilosos, basta con cargar matplotlib.\n",
    "Se crea un objeto, al cual se le agregan capas"
   ]
  },
  {
   "cell_type": "code",
   "execution_count": 43,
   "metadata": {},
   "outputs": [
    {
     "data": {
      "image/png": "[encoded data removed]",
      "text/plain": [
       "<Figure size 432x288 with 1 Axes>"
      ]
     },
     "metadata": {
      "needs_background": "light"
     },
     "output_type": "display_data"
    }
   ],
   "source": [
    "año1 = 1800\n",
    "año2 = 1999\n",
    "df.plot(kind='scatter', x=año1, y=año2)\n",
    "\n",
    "# Especificar la leyenda de los ejes\n",
    "plt.xlabel('Esperanza de vida en ' + str(año1))\n",
    "plt.ylabel('Esperanza de vida en ' + str(año2))\n",
    "\n",
    "# Especificar los límites de los ejes\n",
    "plt.xlim(20, 90)\n",
    "plt.ylim(20, 90)\n",
    "\n",
    "# Mostrar la gráfica\n",
    "plt.show()"
   ]
  },
  {
   "cell_type": "markdown",
   "metadata": {},
   "source": [
    "## Revisión de código\n",
    "Antes de utilizar un dataset, ya sea para hacer análisis, modelar, graficar o lo que sea, es necesario verificar que el dataset sea consistente.\n",
    "Uno de los primeros requisitos es que las filas no estén solo compuestas de datos vacíos, y en caso de que existan deben ser eliminadas. Para ello se ha construido la siguiente función.\n",
    "La función es bastante simple y dará error si es que la primera columna no es numérica, por lo que se pondrá la coluna con el nombre de los países en primer lugar."
   ]
  },
  {
   "cell_type": "code",
   "execution_count": 45,
   "metadata": {},
   "outputs": [],
   "source": [
    "df = df.reindex(columns=['Life expectancy'] + list(df.columns[:-1]))\n",
    "\n",
    "def revisar_nulos_o_validos(row_data):\n",
    "    \"\"\"Función que toma una fila de un dataset, elimina los datos perdidos, \n",
    "    y revisa si los restantes son mayores o igual a cero\n",
    "    \"\"\"\n",
    "    no_na = row_data.dropna()\n",
    "    numericos = pd.to_numeric(no_na)\n",
    "    ge0 = numericos >= 0\n",
    "    return ge0\n",
    "df.head()"
   ]
  },
  {
   "cell_type": "code",
   "execution_count": 48,
   "metadata": {},
   "outputs": [],
   "source": [
    "# Revisar si es que la primera columna es 'Life expectancy'\n",
    "assert df.columns[0] == 'Life expectancy'\n",
    "\n",
    "# Revisar si es que los valores de la fila son válidos\n",
    "assert df.iloc[:, 1:].apply(revisar_nulos_o_validos, axis=1).all().all()\n",
    "\n",
    "# Revisar si cada país está solo una vez\n",
    "assert df['Life expectancy'].value_counts()[0] == 1"
   ]
  },
  {
   "cell_type": "markdown",
   "metadata": {},
   "source": [
    "## Mejores prácticas al trabajar con datos\n",
    "Como se habló en otras clases, la idea es trabajar con data tidy, la que permite hacer la limpieza más fácil. Esto es:\n",
    "- Las filas son obervaciones\n",
    "- Las columnas son variables\n",
    "\n",
    "Para ello se tienen dos transformaciones importantes:\n",
    "- Melting: pasa columnas a filas\n",
    "- Pivotear: toma valores únicos de una columna y crea nuevas columnas\n",
    "\n",
    "Posterior a eso, se deben revisar y cambiar los tipos de datos, con las siguientes funciones"
   ]
  },
  {
   "cell_type": "code",
   "execution_count": null,
   "metadata": {},
   "outputs": [],
   "source": [
    "# Para revisar\n",
    "print(df.dtypes)\n",
    "\n",
    "# Para modificar\n",
    "df[1800] = df[1800].astype(str)\n",
    "\n",
    "# Revisando de nuevo\n",
    "print(df.dtypes)\n",
    "\n",
    "# Volver a numerico\n",
    "df[1800] = df[1800].astype(float)\n",
    "\n",
    "print(df.head())\n",
    "\n",
    "# Revisando...\n",
    "print(df.dtypes)"
   ]
  },
  {
   "cell_type": "markdown",
   "metadata": {},
   "source": [
    "Otra forma de asegurarse que algo cumpla un requisito es con la función assert, la cual entregará un error en caso de que la condición indicada no se cumpla. Por ejemplo, en el dataframe analizado, el país viene con el nombre de columna de \"Life Expectancy\", el cual es de tipo \"object\", mientras que los años son de tipo \"float\". Si queremos asegurarnos de que ciertas variables estén en el formato que buscamos podemos hacerlo con"
   ]
  },
  {
   "cell_type": "code",
   "execution_count": 101,
   "metadata": {},
   "outputs": [
    {
     "ename": "AssertionError",
     "evalue": "",
     "output_type": "error",
     "traceback": [
      "\u001b[1;31m---------------------------------------------------------------------------\u001b[0m",
      "\u001b[1;31mAssertionError\u001b[0m                            Traceback (most recent call last)",
      "\u001b[1;32m<ipython-input-101-38e80b8f9075>\u001b[0m in \u001b[0;36m<module>\u001b[1;34m\u001b[0m\n\u001b[0;32m      3\u001b[0m \u001b[1;33m\u001b[0m\u001b[0m\n\u001b[0;32m      4\u001b[0m \u001b[1;31m# Testear si la columna 1800 es de tipo float\u001b[0m\u001b[1;33m\u001b[0m\u001b[1;33m\u001b[0m\u001b[1;33m\u001b[0m\u001b[0m\n\u001b[1;32m----> 5\u001b[1;33m \u001b[1;32massert\u001b[0m \u001b[0mdf\u001b[0m\u001b[1;33m[\u001b[0m\u001b[1;36m1800\u001b[0m\u001b[1;33m]\u001b[0m\u001b[1;33m.\u001b[0m\u001b[0mdtypes\u001b[0m \u001b[1;33m==\u001b[0m \u001b[0mnp\u001b[0m\u001b[1;33m.\u001b[0m\u001b[0mint64\u001b[0m\u001b[1;33m\u001b[0m\u001b[1;33m\u001b[0m\u001b[0m\n\u001b[0m",
      "\u001b[1;31mAssertionError\u001b[0m: "
     ]
    }
   ],
   "source": [
    "# Testear si life expectancy (nombre del país en dataset original) es de tipo \"object\"\n",
    "assert df[\"Life expectancy\"].dtypes == np.object\n",
    "\n",
    "# Testear si la columna 1800 es de tipo int64 (sabemos que es float)\n",
    "assert df[1800].dtypes == np.int64"
   ]
  },
  {
   "cell_type": "markdown",
   "metadata": {},
   "source": [
    "Lo anterior arroja un error, ya que la columna 1800 es de tipo \"float\". Este tipo de funciones resultan útiles en estructuras de control."
   ]
  },
  {
   "cell_type": "markdown",
   "metadata": {},
   "source": [
    "Actualmente, toda la data está en un solo dataframe, pero es necesario cambiarlo a un formato tidy.\n",
    "La data tiene una columna para cada año, lo que se busca es tener una sola columna (variable) que contenga el año, y una sola columna que contenga la esperanza de vida promedio para cada país cada año. Al tener la data en este formato, es posible utilizar el año como variable predictiva para análisis posteriores.\n",
    "Tal como se indico anteriormente, para pasar columnas a filas se utiliza la transformación melt, de la librería pandas."
   ]
  },
  {
   "cell_type": "code",
   "execution_count": 93,
   "metadata": {},
   "outputs": [
    {
     "name": "stdout",
     "output_type": "stream",
     "text": [
      "         Life expectancy   1800   1801   1802   1803   1804   1805   1806  \\\n",
      "0               Abkhazia    NaN    NaN    NaN    NaN    NaN    NaN    NaN   \n",
      "1            Afghanistan  28.21  28.20  28.19  28.18  28.17  28.16  28.15   \n",
      "2  Akrotiri and Dhekelia    NaN    NaN    NaN    NaN    NaN    NaN    NaN   \n",
      "3                Albania  35.40  35.40  35.40  35.40  35.40  35.40  35.40   \n",
      "4                Algeria  28.82  28.82  28.82  28.82  28.82  28.82  28.82   \n",
      "\n",
      "    1807   1808  ...  2007  2008  2009  2010  2011  2012  2013  2014  2015  \\\n",
      "0    NaN    NaN  ...   NaN   NaN   NaN   NaN   NaN   NaN   NaN   NaN   NaN   \n",
      "1  28.14  28.13  ...  52.4  52.8  53.3  53.6  54.0  54.4  54.8  54.9  53.8   \n",
      "2    NaN    NaN  ...   NaN   NaN   NaN   NaN   NaN   NaN   NaN   NaN   NaN   \n",
      "3  35.40  35.40  ...  76.6  76.8  77.0  77.2  77.4  77.5  77.7  77.9  78.0   \n",
      "4  28.82  28.82  ...  75.3  75.5  75.7  76.0  76.1  76.2  76.3  76.3  76.4   \n",
      "\n",
      "    2016  \n",
      "0    NaN  \n",
      "1  52.72  \n",
      "2    NaN  \n",
      "3  78.10  \n",
      "4  76.50  \n",
      "\n",
      "[5 rows x 218 columns]\n"
     ]
    }
   ],
   "source": [
    "# Eliminar segunda columna\n",
    "df = df.drop(columns=['Unnamed: 0'], axis = 1)\n",
    "\n",
    "print(df.head())"
   ]
  },
  {
   "cell_type": "code",
   "execution_count": 106,
   "metadata": {},
   "outputs": [
    {
     "name": "stdout",
     "output_type": "stream",
     "text": [
      "                    Pais   Año  Expectativa\n",
      "0               Abkhazia  1800          NaN\n",
      "1            Afghanistan  1800        28.21\n",
      "2  Akrotiri and Dhekelia  1800          NaN\n",
      "3                Albania  1800        35.40\n",
      "4                Algeria  1800        28.82\n"
     ]
    }
   ],
   "source": [
    "# Generar el dataframe en formato melt. La(s) variable(s) puestas en id_vars se mantendrán fijas\n",
    "df_melt = pd.melt(df, id_vars = 'Life expectancy')\n",
    "\n",
    "# Cambiar el nombre de las columas\n",
    "df_melt.columns = ['Pais', 'Año', 'Expectativa']\n",
    "\n",
    "# Print head del dataframe\n",
    "print(df_melt.head())"
   ]
  },
  {
   "cell_type": "markdown",
   "metadata": {},
   "source": [
    "## Arreglar nombres de países\n",
    "Un problema común en datasets en la industria es que en determinados campos se puede ingresar cualquier cosa, lo que complica el trabajo con variables categóricas. En este caso se analizarán los nombres de los países, siendo razonable comprobar que estos nombres solo contienen:\n",
    "\n",
    "- Letras en mayúscula y minúscula donde correspondan\n",
    "- Espacios entre palabras\n",
    "- Puntos para las abreviaciones\n",
    "\n",
    "Para el trabajo con caracteres, es posible utilizar expresiones regulares, las cuales pueden utilizarse en pandas con un método llamado str.contains(), que toma un patrón de expresión regular y lo aplica a una serie, entregando True si es que se encuentra el patrón, y False en caso contrario.\n",
    "En este caso buscaremos los valores que NO hacen match, para lo cual se invierte con ~.\n",
    "Con este vector de TRUE/FALSE, es posible obtener los países que tienen nombres inválidos.\n",
    "\n",
    "Las expresiones regulares son una unidad por si sola, pero algunas herramientas importantes son:\n",
    "\n",
    "- ^: indica el comienzo del string \n",
    "- $: indica el final del string \n",
    "- A-Za-z: Letras, mayúsculas y minúsculas\n",
    "- .: cualquier cosa\n",
    "- \\.: Puntos. Como se utiliza para hacer match de cualquier cosa, es necesario \"escaparlo\", por ello se pone un \"\\\"\n",
    "- \\s: Espacios\n",
    "-"
   ]
  },
  {
   "cell_type": "code",
   "execution_count": 104,
   "metadata": {},
   "outputs": [
    {
     "name": "stdout",
     "output_type": "stream",
     "text": [
      "49           Congo, Dem. Rep.\n",
      "50                Congo, Rep.\n",
      "53              Cote d'Ivoire\n",
      "73     Falkland Is (Malvinas)\n",
      "93              Guinea-Bissau\n",
      "98           Hong Kong, China\n",
      "118     United Korea (former)\n",
      "131              Macao, China\n",
      "132            Macedonia, FYR\n",
      "145     Micronesia, Fed. Sts.\n",
      "161           Ngorno-Karabakh\n",
      "187            St. Barthélemy\n",
      "193    St.-Pierre-et-Miquelon\n",
      "225               Timor-Leste\n",
      "251     Virgin Islands (U.S.)\n",
      "252      North Yemen (former)\n",
      "253      South Yemen (former)\n",
      "258                     Åland\n",
      "Name: Pais, dtype: object\n"
     ]
    }
   ],
   "source": [
    "# Se crea la serie de países\n",
    "paises = df_melt['Pais']\n",
    "\n",
    "# Drop all the duplicates from countries\n",
    "paises = paises.drop_duplicates() \n",
    "\n",
    "# Escribir y guardar la expresión regular\n",
    "pattern = '^[A-Za-z\\.\\s]*$'\n",
    "\n",
    "# Crear vector booleano (T y F)\n",
    "mask = paises.str.contains(pattern)\n",
    "\n",
    "# Invertir el vector\n",
    "mask_inverse = ~mask\n",
    "\n",
    "# Tomar solo los países que no cumplen el patrón\n",
    "invalid_countries = paises.loc[mask_inverse]\n",
    "\n",
    "# Mostrar países con nombres inválidos\n",
    "print(invalid_countries)"
   ]
  },
  {
   "cell_type": "markdown",
   "metadata": {},
   "source": [
    "## Análisis de valores perdidos\n",
    "Casi todos los datasets tienen valores perdidos, y es necesario tratarlos. Para ello existen varias estrategias\n",
    "\n",
    "- Eliminarlos\n",
    "- Imputación con alguna medida (media, moda, mediana)\n",
    "- Imputación con algún modelo, como knn. Esto imputa valores de otras observaciones similares, en base a un algoritmo\n",
    "- Rellenar con valor anterior o posterior (solo para series de tiempo)\n",
    "\n",
    "Si bien no se recomienda eliminar la data, ya que se pierden registros con información útil, se mostrará este método en el primer ejemplo. En caso de modelar se recomienda probar más de un método, considerando las posibles implicancias de cada uno.\n",
    "Como se observa en el output del siguiente código, el dataset baja de 56420 a 43857. "
   ]
  },
  {
   "cell_type": "code",
   "execution_count": 107,
   "metadata": {},
   "outputs": [
    {
     "name": "stdout",
     "output_type": "stream",
     "text": [
      "(56420, 3)\n",
      "(43857, 3)\n"
     ]
    }
   ],
   "source": [
    "# Revisar que ningún país tenga su nombre vacío\n",
    "assert pd.notnull(df_melt.Pais).all()\n",
    "\n",
    "# Revisar que ningún año tenga dato faltante\n",
    "assert pd.notnull(df_melt.Año).all()\n",
    "\n",
    "# Eliminar valores perdidos\n",
    "# axis: representa que análisis hacer. 0: filas, 1: columnas\n",
    "# how: criterio a eliminar. en caso de que cualquier parte de la fila esté vacío, se elimina toda la fila\n",
    "df_melt2 = df_melt.dropna(axis = 0, how = 'any')\n",
    "\n",
    "# Print the shape of gapminder\n",
    "print(df_melt.shape)\n",
    "print(df_melt2.shape)"
   ]
  },
  {
   "cell_type": "markdown",
   "metadata": {},
   "source": [
    "## Uso de la data limpia\n",
    "Ahora que el dataset está en formato apropiado (tidy), y se encuentra sin valores perdidos, es posible realizar gráficos y hacer análisis.\n",
    "\n",
    "### Histograma de la expectativa de vida\n",
    "\n",
    "### Cambio temporal de la expectativa de vida\n",
    "Se hará a nivel total. Para ello primero es necesario agregar la data, mediante el método group_by.\n",
    "\n",
    "### Guardar la data\n",
    "Finalmente siempre es necesario tener la data limpia y lista en algún lugar. Para ello se utiliza la función de pandas llamada .to_csv()"
   ]
  },
  {
   "cell_type": "code",
   "execution_count": 109,
   "metadata": {},
   "outputs": [
    {
     "name": "stdout",
     "output_type": "stream",
     "text": [
      "Año\n",
      "1800    31.486020\n",
      "1801    31.448905\n",
      "1802    31.463483\n",
      "1803    31.377413\n",
      "1804    31.446318\n",
      "Name: Expectativa, dtype: float64\n",
      "Año\n",
      "2012    71.663077\n",
      "2013    71.916106\n",
      "2014    72.088125\n",
      "2015    72.321010\n",
      "2016    72.556635\n",
      "Name: Expectativa, dtype: float64\n"
     ]
    },
    {
     "data": {
      "image/png": "[encoded data removed]",
      "text/plain": [
       "<Figure size 432x288 with 2 Axes>"
      ]
     },
     "metadata": {
      "needs_background": "light"
     },
     "output_type": "display_data"
    },
    {
     "name": "stderr",
     "output_type": "stream",
     "text": [
      "C:\\Users\\ggajardo\\AppData\\Local\\Continuum\\anaconda3\\lib\\site-packages\\ipykernel_launcher.py:33: FutureWarning: The signature of `Series.to_csv` was aligned to that of `DataFrame.to_csv`, and argument 'header' will change its default value from False to True: please pass an explicit value to suppress this warning.\n"
     ]
    }
   ],
   "source": [
    "# Agregar el primer subplot\n",
    "plt.subplot(2, 1, 1) \n",
    "\n",
    "# Histograma de la esperanza de vida\n",
    "df_melt.Expectativa.plot(kind = 'hist')\n",
    "\n",
    "# Agrupar la data en base al año y calcular la media de todos los países\n",
    "df_agg = df_melt.groupby('Año')['Expectativa'].mean()\n",
    "\n",
    "# Mostrar los primeros 5\n",
    "print(df_agg.head())\n",
    "\n",
    "# Mostrar los últimos 5\n",
    "print(df_agg.tail())\n",
    "\n",
    "# Agregar segundo subplot\n",
    "plt.subplot(2, 1, 2)\n",
    "\n",
    "# Crear un scatter de la esperanza promedio según el año\n",
    "df_agg.plot()\n",
    "\n",
    "# Agregar título y especificar labels\n",
    "plt.title('Esperanza de vida por año')\n",
    "plt.ylabel('Esperanza de vida')\n",
    "plt.xlabel('Año')\n",
    "\n",
    "# Mostrar los plots\n",
    "plt.tight_layout()\n",
    "plt.show()\n",
    "\n",
    "# Guardar los dataframes en csv\n",
    "df_melt.to_csv('gapminder_clean.csv')\n",
    "df_agg.to_csv('gapminder_agg_clean.csv')"
   ]
  },
  {
   "cell_type": "markdown",
   "metadata": {},
   "source": [
    "### Otros cálculos\n",
    "Siempre será necesario hacer modificaciones a los datasets, tanto en forma, como agregando o modificando nuevas variables.\n",
    "Esto puede realizarse en base a columnas existentes, o en base a funciones."
   ]
  }
 ],
 "metadata": {
  "kernelspec": {
   "display_name": "Python 3",
   "language": "python",
   "name": "python3"
  },
  "language_info": {
   "codemirror_mode": {
    "name": "ipython",
    "version": 3
   },
   "file_extension": ".py",
   "mimetype": "text/x-python",
   "name": "python",
   "nbconvert_exporter": "python",
   "pygments_lexer": "ipython3",
   "version": "3.7.3"
  }
 },
 "nbformat": 4,
 "nbformat_minor": 2
}
