{
 "cells": [
  {
   "cell_type": "markdown",
   "metadata": {},
   "source": [
    "# Series de tiempo\n",
    "Un concepto fundamental en economía, econometría y estadística es el de las series de tiempo, las cuales se definen como un conjunto de observaciones de un fenómeno ordenados en el tiempo, donde este ultimo puede ser periódico o no, lo cual estará dado por la posibilidad o interés de tomar la medida.\n",
    "\n",
    "En este ramo, se estudiarán los conceptos básicos del manejo de series de tiempo en la primera parte del ramo, para luego estudiar algunos modelos útiles.\n",
    "En términos de manejo de las series veremos:\n",
    "\n",
    "+ Dataframes y Series en pandas\n",
    "+ Índices\n",
    "+ Fechas\n",
    "+ formato ISO 8601\n",
    "+ slices\n",
    "+ Selección de datetimes parcial\n",
    "+ Llenado de valores perdidos (backward fill, forward fill, interpolación\n",
    "+ Medias móviles\n",
    "+ Visualización de series de tiempo"
   ]
  },
  {
   "cell_type": "code",
   "execution_count": 1,
   "metadata": {},
   "outputs": [],
   "source": [
    "# Se importan las librerías principales\n",
    "import matplotlib.pyplot as plt\n",
    "import pandas as pd\n",
    "import numpy as np"
   ]
  },
  {
   "cell_type": "code",
   "execution_count": 2,
   "metadata": {},
   "outputs": [
    {
     "name": "stdout",
     "output_type": "stream",
     "text": [
      "         Date        Open        High        Low       Close  Adj Close  \\\n",
      "0  2014-09-29  100.589996  100.690002  98.040001   99.620003  93.514290   \n",
      "1  2014-10-06   99.949997  102.379997  98.309998  100.730003  94.556244   \n",
      "\n",
      "      Volume  \n",
      "0  142718700  \n",
      "1  280258200  \n"
     ]
    }
   ],
   "source": [
    "# Se lee el \n",
    "aapl = pd.read_csv(\"AAPL.csv\")\n",
    "print(aapl.head(2))"
   ]
  },
  {
   "cell_type": "markdown",
   "metadata": {},
   "source": [
    "## Índices y fechas\n",
    "En el caso de querer trabajar con series de tiempo, es necesario saber como leer los archivos de forma apropiada, esto debido a que resulta muy útil trabajar con índices y no siempre pandas trabaja con ellos.\n",
    "Por ello, acá se muestran tres formas de leer un mismo archivo, y con df.dtypes es posible observar la diferencia que se genera.\n",
    "\n",
    "+ Leer el dataframe sin especificar nada, cada columna es una variable (df1). Date es por defecto tipo object\n",
    "+ Indicando parse_dates, que indica claramente cual es la columna que tiene la componente de tiempo (df2). Date es de tipo datetime64[ns] (formato general para fechas en Python)\n",
    "+ Indicado lo anterior, ademas de definir la fecha como índice (df23). Se observa que ya no aparece la fecha con .dtypes, debido a que ahora es un índice. Esta es la forma de leer archivos de series de tiempo."
   ]
  },
  {
   "cell_type": "code",
   "execution_count": 48,
   "metadata": {},
   "outputs": [
    {
     "name": "stdout",
     "output_type": "stream",
     "text": [
      "         Date        Open        High         Low       Close   Adj Close  \\\n",
      "0  2014-09-29  100.589996  100.690002   98.040001   99.620003   93.514290   \n",
      "1  2014-10-06   99.949997  102.379997   98.309998  100.730003   94.556244   \n",
      "2  2014-10-13  101.330002  101.779999   95.180000   97.669998   91.683792   \n",
      "3  2014-10-20   98.320000  105.489998   98.220001  105.220001   98.771042   \n",
      "4  2014-10-27  104.849998  108.040001  104.699997  108.000000  101.380676   \n",
      "\n",
      "      Volume  \n",
      "0  142718700  \n",
      "1  280258200  \n",
      "2  358539800  \n",
      "3  358532900  \n",
      "4  220230600  \n",
      "Date          object\n",
      "Open         float64\n",
      "High         float64\n",
      "Low          float64\n",
      "Close        float64\n",
      "Adj Close    float64\n",
      "Volume         int64\n",
      "dtype: object\n"
     ]
    }
   ],
   "source": [
    "filename = \"AAPL.csv\"\n",
    "df1 = pd.read_csv(filename)\n",
    "print(df1.head())\n",
    "print(df1.dtypes)"
   ]
  },
  {
   "cell_type": "code",
   "execution_count": 15,
   "metadata": {},
   "outputs": [
    {
     "name": "stdout",
     "output_type": "stream",
     "text": [
      "        Date        Open        High         Low       Close   Adj Close  \\\n",
      "0 2014-09-29  100.589996  100.690002   98.040001   99.620003   93.514290   \n",
      "1 2014-10-06   99.949997  102.379997   98.309998  100.730003   94.556244   \n",
      "2 2014-10-13  101.330002  101.779999   95.180000   97.669998   91.683792   \n",
      "3 2014-10-20   98.320000  105.489998   98.220001  105.220001   98.771042   \n",
      "4 2014-10-27  104.849998  108.040001  104.699997  108.000000  101.380676   \n",
      "\n",
      "      Volume  \n",
      "0  142718700  \n",
      "1  280258200  \n",
      "2  358539800  \n",
      "3  358532900  \n",
      "4  220230600  \n",
      "Date         datetime64[ns]\n",
      "Open                float64\n",
      "High                float64\n",
      "Low                 float64\n",
      "Close               float64\n",
      "Adj Close           float64\n",
      "Volume                int64\n",
      "dtype: object\n"
     ]
    }
   ],
   "source": [
    "df2 = pd.read_csv(filename, parse_dates=['Date'])\n",
    "print(df2.head())\n",
    "print(df2.dtypes)"
   ]
  },
  {
   "cell_type": "code",
   "execution_count": 16,
   "metadata": {},
   "outputs": [
    {
     "name": "stdout",
     "output_type": "stream",
     "text": [
      "                  Open        High         Low       Close   Adj Close  \\\n",
      "Date                                                                     \n",
      "2014-09-29  100.589996  100.690002   98.040001   99.620003   93.514290   \n",
      "2014-10-06   99.949997  102.379997   98.309998  100.730003   94.556244   \n",
      "2014-10-13  101.330002  101.779999   95.180000   97.669998   91.683792   \n",
      "2014-10-20   98.320000  105.489998   98.220001  105.220001   98.771042   \n",
      "2014-10-27  104.849998  108.040001  104.699997  108.000000  101.380676   \n",
      "\n",
      "               Volume  \n",
      "Date                   \n",
      "2014-09-29  142718700  \n",
      "2014-10-06  280258200  \n",
      "2014-10-13  358539800  \n",
      "2014-10-20  358532900  \n",
      "2014-10-27  220230600  \n",
      "Open         float64\n",
      "High         float64\n",
      "Low          float64\n",
      "Close        float64\n",
      "Adj Close    float64\n",
      "Volume         int64\n",
      "dtype: object\n"
     ]
    }
   ],
   "source": [
    "df3 = pd.read_csv(filename, index_col='Date', parse_dates=True)\n",
    "print(df3.head())\n",
    "print(df3.dtypes)"
   ]
  },
  {
   "cell_type": "markdown",
   "metadata": {},
   "source": [
    "En otros casos, uno quiere construir un dataframe para análisis de series de tiempo a partir de datos que uno ha procesado, en ese caso, la función .to_datetime() permite obtener lo visto anteriormente.\n",
    "Para utilizar esta función es necesario conocer el formato a utilizar, y asumiremos que tenemos las series de Precio de apertura y fechas asociadas en dos listas de un proceso anterior."
   ]
  },
  {
   "cell_type": "code",
   "execution_count": 63,
   "metadata": {},
   "outputs": [
    {
     "name": "stdout",
     "output_type": "stream",
     "text": [
      "DatetimeIndex(['2014-09-29', '2014-10-06', '2014-10-13', '2014-10-20',\n",
      "               '2014-10-27', '2014-11-03', '2014-11-10', '2014-11-17',\n",
      "               '2014-11-24', '2014-12-01',\n",
      "               ...\n",
      "               '2018-01-29', '2018-02-05', '2018-02-12', '2018-02-19',\n",
      "               '2018-02-26', '2018-03-05', '2018-03-12', '2018-03-19',\n",
      "               '2018-03-26', '2018-03-29'],\n",
      "              dtype='datetime64[ns]', length=184, freq=None)\n"
     ]
    },
    {
     "data": {
      "text/plain": [
       "2014-09-29    100.589996\n",
       "2014-10-06     99.949997\n",
       "2014-10-13    101.330002\n",
       "2014-10-20     98.320000\n",
       "2014-10-27    104.849998\n",
       "dtype: float64"
      ]
     },
     "execution_count": 63,
     "metadata": {},
     "output_type": "execute_result"
    }
   ],
   "source": [
    "# Se define el formato, se supone que lo conocemos\n",
    "formato_fecha = '%Y-%m-%d'\n",
    "\n",
    "# Esta parte es solo para ejemplificar\n",
    "lista_fechas = df1['Date'].tolist()\n",
    "lista_apertura = df1['Open'].tolist()\n",
    "\n",
    "# Se pasa la lista de fechas al formato datetime\n",
    "fechas_datetimes = pd.to_datetime(lista_fechas, format = formato_fecha) \n",
    "print(fechas_datetimes)\n",
    "\n",
    "# Se genera la serie de tiempo\n",
    "serie_temporal = pd.Series(lista_apertura, index = fechas_datetimes)\n",
    "serie_temporal.head()"
   ]
  },
  {
   "cell_type": "markdown",
   "metadata": {},
   "source": [
    "Con lo anterior es posible construir una Serie en pandas, que se puede entender como una columna de un DataFrame con un index, de hecho, todas las funciones para sacar estadísticas que vimos para dataframes aplican para series (describe, count, max, quantile, etc), incluso los gráficos."
   ]
  },
  {
   "cell_type": "code",
   "execution_count": 62,
   "metadata": {},
   "outputs": [
    {
     "name": "stdout",
     "output_type": "stream",
     "text": [
      "count    184.000000\n",
      "mean     127.040245\n",
      "std       24.314449\n",
      "min       92.389999\n",
      "25%      108.882500\n",
      "50%      118.895000\n",
      "75%      144.935005\n",
      "max      180.289993\n",
      "dtype: float64\n",
      "184\n",
      "108.88249950000001\n"
     ]
    },
    {
     "data": {
      "image/png": "[encoded data removed]",
      "text/plain": [
       "<Figure size 432x288 with 1 Axes>"
      ]
     },
     "metadata": {
      "needs_background": "light"
     },
     "output_type": "display_data"
    }
   ],
   "source": [
    "# Ejemplos de funciones\n",
    "print(serie_temporal.describe())\n",
    "print(serie_temporal.count())\n",
    "print(serie_temporal.quantile(0.25))\n",
    "\n",
    "# Gráfico simple\n",
    "serie_temporal.plot()\n",
    "plt.show()"
   ]
  },
  {
   "cell_type": "markdown",
   "metadata": {},
   "source": [
    "## Leer y cortar períodos\n",
    "Las series de pandas poseen lo que se conoce como indexado parcial, es decir, que uno puede entregar solo una porción del datetime y pandas entregará el periodo especificado. A continuación se especificarán los siguientes períodos y se calcularán sus estadísticas.\n",
    "\n",
    "+ Datos solo de 2016\n",
    "+ 2016 a 2018\n",
    "+ Solo del 4 de febrero de 2016\n",
    "+ Del 4 de febrero de 2016 al 4 de febrero de 2018\n",
    "+ Solo de marzo de 2016\n",
    "+ De marzo a agosto de 2017"
   ]
  },
  {
   "cell_type": "code",
   "execution_count": 85,
   "metadata": {},
   "outputs": [
    {
     "name": "stdout",
     "output_type": "stream",
     "text": [
      "count     52.000000\n",
      "mean     104.271154\n",
      "std        7.505763\n",
      "min       92.389999\n",
      "25%       97.707499\n",
      "50%      104.705002\n",
      "75%      110.090002\n",
      "max      117.330002\n",
      "dtype: float64\n",
      "count    118.000000\n",
      "mean     132.271314\n",
      "std       28.298815\n",
      "min       92.389999\n",
      "25%      106.845001\n",
      "50%      134.654999\n",
      "75%      157.389999\n",
      "max      180.289993\n",
      "dtype: float64\n",
      "102.610001\n",
      "count    104.000000\n",
      "mean     130.532116\n",
      "std       26.869492\n",
      "min       92.389999\n",
      "25%      107.662498\n",
      "50%      125.030003\n",
      "75%      154.279995\n",
      "max      177.899994\n",
      "dtype: float64\n",
      "count      4.000000\n",
      "mean     104.057501\n",
      "std        2.211475\n",
      "min      101.910004\n",
      "25%      102.270000\n",
      "50%      104.159999\n",
      "75%      105.947500\n",
      "max      106.000000\n",
      "dtype: float64\n",
      "count     26.000000\n",
      "mean     148.118462\n",
      "std        6.565811\n",
      "min      138.850006\n",
      "25%      143.615005\n",
      "50%      146.455001\n",
      "75%      153.854999\n",
      "max      160.139999\n",
      "dtype: float64\n"
     ]
    }
   ],
   "source": [
    "# Datos solo de 2016\n",
    "s1 = serie_temporal.loc['2016']\n",
    "print(s1.describe())\n",
    "\n",
    "# 2016 a 2018\n",
    "s2 = serie_temporal.loc['2016':'2018']\n",
    "print(s2.describe())\n",
    "\n",
    "# Solo del 4 de enero de 2016\n",
    "s3 = serie_temporal.loc['2016-01-04']\n",
    "print(s3)\n",
    "\n",
    "# Del 4 de febrero de 2016 al 4 de febrero de 2018\n",
    "s4 = serie_temporal.loc['2016-02-04':'2018-02-04']\n",
    "print(s4.describe())\n",
    "\n",
    "# Solo de marzo de 2016\n",
    "s5 = serie_temporal.loc['2016-03']\n",
    "print(s5.describe())\n",
    "\n",
    "# De marzo a agosto de 2017\n",
    "s6 = serie_temporal.loc['2017-03':'2017-08']\n",
    "print(s6.describe())"
   ]
  }
 ],
 "metadata": {
  "kernelspec": {
   "display_name": "Python 3",
   "language": "python",
   "name": "python3"
  },
  "language_info": {
   "codemirror_mode": {
    "name": "ipython",
    "version": 3
   },
   "file_extension": ".py",
   "mimetype": "text/x-python",
   "name": "python",
   "nbconvert_exporter": "python",
   "pygments_lexer": "ipython3",
   "version": "3.7.3"
  }
 },
 "nbformat": 4,
 "nbformat_minor": 2
}
